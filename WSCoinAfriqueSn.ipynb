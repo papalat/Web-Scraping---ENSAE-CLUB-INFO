{
 "cells": [
  {
   "cell_type": "markdown",
   "metadata": {},
   "source": [
    "# Installation - Anaconda\n",
    "https://www.anaconda.com/products/individual"
   ]
  },
  {
   "cell_type": "code",
   "execution_count": 1,
   "metadata": {},
   "outputs": [
    {
     "name": "stdout",
     "output_type": "stream",
     "text": [
      "Requirement already satisfied: bs4 in /opt/anaconda3/lib/python3.8/site-packages (0.0.1)\r\n",
      "Requirement already satisfied: beautifulsoup4 in /opt/anaconda3/lib/python3.8/site-packages (from bs4) (4.9.3)\r\n",
      "Requirement already satisfied: soupsieve>1.2 in /opt/anaconda3/lib/python3.8/site-packages (from beautifulsoup4->bs4) (2.2.1)\r\n"
     ]
    }
   ],
   "source": [
    "# installer les modules\n",
    "#BeautifulSoup\n",
    "!pip install bs4\n",
    "#!conda install -c anaconda beautifulsoup4"
   ]
  },
  {
   "cell_type": "markdown",
   "metadata": {},
   "source": [
    "# Google Colab"
   ]
  },
  {
   "cell_type": "markdown",
   "metadata": {},
   "source": [
    "https://colab.research.google.com/drive/1fkoAOrMXY-dj1tb6v9dO6RlXnnjI8wMC"
   ]
  },
  {
   "cell_type": "markdown",
   "metadata": {},
   "source": [
    "# WEB CRAPING"
   ]
  },
  {
   "cell_type": "code",
   "execution_count": 1,
   "metadata": {},
   "outputs": [],
   "source": [
    "# Importer les modules\n",
    "import time\n",
    "import csv\n",
    "import json\n",
    "import requests\n",
    "import pandas as pd\n",
    "from datetime import date\n",
    "from bs4 import BeautifulSoup"
   ]
  },
  {
   "cell_type": "markdown",
   "metadata": {},
   "source": [
    "https://sn.coinafrique.com/"
   ]
  },
  {
   "cell_type": "code",
   "execution_count": 2,
   "metadata": {},
   "outputs": [],
   "source": [
    "url=\"https://sn.coinafrique.com/categorie/telephones-et-tablettes\""
   ]
  },
  {
   "cell_type": "code",
   "execution_count": 3,
   "metadata": {},
   "outputs": [],
   "source": [
    "# Exécuter la requête GET\n",
    "uInfos=requests.get(url)\n",
    "# On recupere le code html\n",
    "soups=BeautifulSoup(uInfos.text, \"html.parser\")\n",
    "#soups"
   ]
  },
  {
   "cell_type": "code",
   "execution_count": 4,
   "metadata": {},
   "outputs": [
    {
     "data": {
      "text/plain": [
       "10"
      ]
     },
     "execution_count": 4,
     "metadata": {},
     "output_type": "execute_result"
    }
   ],
   "source": [
    "np=len(soups.findAll(\"li\",{\"class\": \"pagination-number\"})[0].findAll(\"a\"))\n",
    "np"
   ]
  },
  {
   "cell_type": "code",
   "execution_count": 5,
   "metadata": {},
   "outputs": [],
   "source": [
    "all_urls={}\n",
    "for j in range(np) :\n",
    "        all_urls[\"page{}\".format(\n",
    "            j+1)]=\"https://sn.coinafrique.com/categorie/telephones-et-tablettes?page={}\".format(j+1)\n",
    "urlpage1=all_urls[\"page1\"]\n",
    "#urlpage1"
   ]
  },
  {
   "cell_type": "code",
   "execution_count": 6,
   "metadata": {},
   "outputs": [],
   "source": [
    "# Exécuter la requête GET\n",
    "uInfos =requests.get(urlpage1)\n",
    "# On recupere le code html\n",
    "soupspage1=BeautifulSoup(uInfos.text, \"html.parser\")\n",
    "#soupspage1"
   ]
  },
  {
   "cell_type": "code",
   "execution_count": 7,
   "metadata": {},
   "outputs": [],
   "source": [
    "# Pour la page 1, on recurepere tous les \"div\" de classe \"col s6 m4 l3\" \n",
    "containerspage1=soupspage1.findAll(\"div\",{\"class\": \"col s6 m4 l3\"})\n",
    "#containerspage1[0]"
   ]
  },
  {
   "cell_type": "code",
   "execution_count": 8,
   "metadata": {},
   "outputs": [],
   "source": [
    "# Récupération du lien de l'article mumero 1\n",
    "chemin_art=containerspage1[0].div.a['href']\n",
    "url_article0=\"https://sn.coinafrique.com\"+chemin_art\n",
    "url_article0\n",
    "html_article0=BeautifulSoup(requests.get(url_article0).text, \"html.parser\")\n",
    "#html_article0"
   ]
  },
  {
   "cell_type": "code",
   "execution_count": 9,
   "metadata": {},
   "outputs": [
    {
     "name": "stdout",
     "output_type": "stream",
     "text": [
      "#le titre -----------------------------------\n",
      "Infinix Hot 10i \n",
      "#le prix-------------------------------------\n",
      "75 000 CFA\n",
      "#la localité---------------------------------\n",
      "Dakar, Sénégal\n",
      "# Catégorie----------------------------------\n",
      "Téléphones & Tablettes\n",
      "#Durée de la publication---------------------\n",
      "14 minutes\n",
      "# date d'extraction des données--------------\n",
      "2021-11-23\n",
      "# Détails du produit-------------------------\n",
      "Détails du produitInfinix Hot 8i\n",
      "Mémoire 64 Gb\n",
      "Ram 2Gb \n",
      "# État du produit : neuf---------------------\n",
      "Produit neuf\n",
      "# Disponibilité pour la livraison------------\n",
      "Livraison disponible\n"
     ]
    }
   ],
   "source": [
    "print(\"#le titre -----------------------------------\")\n",
    "print(html_article0.find(\"h1\",{\"class\":\"title title-ad hide-on-large-and-down\"}).text)\n",
    "print(\"#le prix-------------------------------------\")\n",
    "print(html_article0.find(\"p\",{\"class\":\"price\"}).text)\n",
    "print(\"#la localité---------------------------------\")\n",
    "print(html_article0.findAll(\"span\",{\"class\":\"valign-wrapper\"})[1].text)\n",
    "print(\"# Catégorie----------------------------------\")\n",
    "print(html_article0.findAll(\"span\",{\"class\":\"valign-wrapper\"})[2].text)\n",
    "print(\"#Durée de la publication---------------------\")\n",
    "print(html_article0.findAll(\"span\",{\"class\":\"valign-wrapper\"})[3].text)\n",
    "print(\"# date d'extraction des données--------------\")\n",
    "print(date.today())\n",
    "print(\"# Détails du produit-------------------------\")\n",
    "print(html_article0.findAll(\"div\",{\"class\":\"ad__info__box ad__info__box-descriptions\"})[0].text)\n",
    "print(\"# État du produit : neuf---------------------\")\n",
    "print(html_article0.findAll(\"div\",{\"class\":\"isNew-option\"})[0].text)\n",
    "print(\"# Disponibilité pour la livraison------------\")\n",
    "print(html_article0.findAll(\"div\",{\"class\":\"delivery-option\"})[0].text)"
   ]
  },
  {
   "cell_type": "markdown",
   "metadata": {},
   "source": [
    "# Généralisation"
   ]
  },
  {
   "cell_type": "code",
   "execution_count": 10,
   "metadata": {},
   "outputs": [],
   "source": [
    "# nombre de page pour chaque categorie (respectant l'odre)\n",
    "categorie=[\"telephones-et-tablettes\",\"ordinateurs\"]\n",
    "\n",
    "all_urls={}\n",
    "for elmt in categorie :\n",
    "        all_urls[\"{}\".format(elmt)]=\"https://sn.coinafrique.com/categorie/{}\".format(elmt)\n",
    "        \n",
    "all_uInfos ={param : requests.get(all_urls[param]) for param in all_urls.keys()}\n",
    "\n",
    "# On recupere le code html de la page 1 pour chaque categorie\n",
    "all_soups ={param : BeautifulSoup(all_uInfos[param].text, \"html.parser\") for param in all_uInfos.keys()} \n",
    "\n",
    "nombrePage=[1,1]\n",
    "i=0\n",
    "for param in all_uInfos.keys() :\n",
    "    try :\n",
    "        nombrePage[i]=len(all_soupsm1[param].findAll(\"li\",{\"class\": \"pagination-number\"})[0].findAll(\"a\"))\n",
    "        i=i+1\n",
    "    except :\n",
    "        i=i+1\n",
    "\n",
    "# nombre de page pour chaque categorie (respectant l'odre)\n",
    "np=nombrePage\n",
    "\n",
    "all_urls={}\n",
    "for i in range(len(np)) :\n",
    "    for j in range(np[i]) :\n",
    "        all_urls[\"{}_page{}\".format(\n",
    "            categorie[i],j+1)]=\"https://sn.coinafrique.com/categorie/{}?page={}\".format(categorie[i],j+1)\n",
    "        \n",
    " "
   ]
  },
  {
   "cell_type": "code",
   "execution_count": 11,
   "metadata": {},
   "outputs": [],
   "source": [
    "             \n",
    "# Exécuter la requête GET\n",
    "all_uInfos ={param : requests.get(all_urls[param]) for param in all_urls.keys()} \n",
    "\n",
    "# On recupere le code html pour chaque page (de 1 à n)\n",
    "all_soups ={param : BeautifulSoup(all_uInfos[param].text, \"html.parser\") for param in all_uInfos.keys()} \n",
    "\n",
    "\n",
    "# Pour chaque page (de 1 à n) on recurepere tous les \"div\" de classe \"col s6 m4 l3\" \n",
    "all_containers={param : all_soups[param].findAll(\"div\",{\"class\": \"col s6 m4 l3\"}) for param in all_soups.keys()}\n"
   ]
  },
  {
   "cell_type": "code",
   "execution_count": 12,
   "metadata": {},
   "outputs": [],
   "source": [
    "# Récupération du lien de chaque article\n",
    "url={param: { 'url {}'.format(j) : requests.get(\n",
    "    \"https://sn.coinafrique.com\"+all_containers[param][j].div.a['href'])\n",
    "    for j in range(len(all_containers[param]))} for param in all_containers.keys()}"
   ]
  },
  {
   "cell_type": "code",
   "execution_count": 13,
   "metadata": {},
   "outputs": [],
   "source": [
    "\n",
    "soup={param: {'soup {}'.format(j) : BeautifulSoup(url[param]['url {}'.format(j)].text, \"html.parser\")\n",
    "    for j in range(len(all_containers[param]))} for param in all_containers.keys()}\n",
    "\n"
   ]
  },
  {
   "cell_type": "code",
   "execution_count": 14,
   "metadata": {},
   "outputs": [
    {
     "data": {
      "text/html": [
       "<div>\n",
       "<style scoped>\n",
       "    .dataframe tbody tr th:only-of-type {\n",
       "        vertical-align: middle;\n",
       "    }\n",
       "\n",
       "    .dataframe tbody tr th {\n",
       "        vertical-align: top;\n",
       "    }\n",
       "\n",
       "    .dataframe thead th {\n",
       "        text-align: right;\n",
       "    }\n",
       "</style>\n",
       "<table border=\"1\" class=\"dataframe\">\n",
       "  <thead>\n",
       "    <tr style=\"text-align: right;\">\n",
       "      <th></th>\n",
       "      <th>titre</th>\n",
       "      <th>prix</th>\n",
       "      <th>localite</th>\n",
       "      <th>categorie</th>\n",
       "      <th>duree</th>\n",
       "      <th>date d'extraction</th>\n",
       "      <th>lien</th>\n",
       "      <th>état du produit</th>\n",
       "      <th>détails du produit</th>\n",
       "    </tr>\n",
       "  </thead>\n",
       "  <tbody>\n",
       "    <tr>\n",
       "      <th>0</th>\n",
       "      <td>Infinix Hot 10i</td>\n",
       "      <td>75 000 CFA</td>\n",
       "      <td>Dakar, Sénégal</td>\n",
       "      <td>Téléphones &amp; Tablettes</td>\n",
       "      <td>14 minutes</td>\n",
       "      <td>2021-11-23</td>\n",
       "      <td>https://sn.coinafrique.com/annonce/telephones-...</td>\n",
       "      <td>Produit neuf</td>\n",
       "      <td>Détails du produitInfinix Hot 8i\\nMémoire 64 G...</td>\n",
       "    </tr>\n",
       "    <tr>\n",
       "      <th>1</th>\n",
       "      <td>Tecno Pop 2F</td>\n",
       "      <td>38 000 CFA</td>\n",
       "      <td>Téléphones &amp; Tablettes</td>\n",
       "      <td>Dakar, Sénégal</td>\n",
       "      <td>Téléphones &amp; Tablettes</td>\n",
       "      <td>2021-11-23</td>\n",
       "      <td>https://sn.coinafrique.com/annonce/telephones-...</td>\n",
       "      <td>Produit neuf</td>\n",
       "      <td>Détails du produitTecno Pop 2F\\n16 Gb\\nRam 1 Gb</td>\n",
       "    </tr>\n",
       "    <tr>\n",
       "      <th>2</th>\n",
       "      <td>Tecno Camon 18</td>\n",
       "      <td>115 000 CFA</td>\n",
       "      <td>Téléphones &amp; Tablettes</td>\n",
       "      <td>Dakar, Sénégal</td>\n",
       "      <td>Téléphones &amp; Tablettes</td>\n",
       "      <td>2021-11-23</td>\n",
       "      <td>https://sn.coinafrique.com/annonce/telephones-...</td>\n",
       "      <td>Produit neuf</td>\n",
       "      <td>Détails du produitTecno Camon 18 \\n128 Gb\\nRam...</td>\n",
       "    </tr>\n",
       "    <tr>\n",
       "      <th>3</th>\n",
       "      <td>TCL 20L Plus - 256 Go</td>\n",
       "      <td>150 000 CFA</td>\n",
       "      <td>Dakar Plateau, Dakar, Sénégal</td>\n",
       "      <td>Téléphones &amp; Tablettes</td>\n",
       "      <td>42 minutes</td>\n",
       "      <td>2021-11-23</td>\n",
       "      <td>https://sn.coinafrique.com/annonce/telephones-...</td>\n",
       "      <td>Produit neuf</td>\n",
       "      <td>Détails du produitTcl 20l plus original tout n...</td>\n",
       "    </tr>\n",
       "    <tr>\n",
       "      <th>4</th>\n",
       "      <td>TCL 20se - 128 Go</td>\n",
       "      <td>110 000 CFA</td>\n",
       "      <td>Dakar Plateau, Dakar, Sénégal</td>\n",
       "      <td>Téléphones &amp; Tablettes</td>\n",
       "      <td>42 minutes</td>\n",
       "      <td>2021-11-23</td>\n",
       "      <td>https://sn.coinafrique.com/annonce/telephones-...</td>\n",
       "      <td>Produit neuf</td>\n",
       "      <td>Détails du produitTcl 20se original tout neuf ...</td>\n",
       "    </tr>\n",
       "    <tr>\n",
       "      <th>...</th>\n",
       "      <td>...</td>\n",
       "      <td>...</td>\n",
       "      <td>...</td>\n",
       "      <td>...</td>\n",
       "      <td>...</td>\n",
       "      <td>...</td>\n",
       "      <td>...</td>\n",
       "      <td>...</td>\n",
       "      <td>...</td>\n",
       "    </tr>\n",
       "    <tr>\n",
       "      <th>163</th>\n",
       "      <td>PC Lenovo</td>\n",
       "      <td>75 000 CFA</td>\n",
       "      <td>Dakar, Sénégal</td>\n",
       "      <td>Ordinateurs</td>\n",
       "      <td>1 jour</td>\n",
       "      <td>2021-11-23</td>\n",
       "      <td>https://sn.coinafrique.com/annonce/ordinateurs...</td>\n",
       "      <td></td>\n",
       "      <td>Détails du produitDisk 250gb ran 4gb autono.ie...</td>\n",
       "    </tr>\n",
       "    <tr>\n",
       "      <th>164</th>\n",
       "      <td>Ordinateur HP 800 G1 Elitedesk core i5</td>\n",
       "      <td>100 000 CFA</td>\n",
       "      <td>Dakar, Sénégal</td>\n",
       "      <td>Ordinateurs</td>\n",
       "      <td>1 jour</td>\n",
       "      <td>2021-11-23</td>\n",
       "      <td>https://sn.coinafrique.com/annonce/ordinateurs...</td>\n",
       "      <td></td>\n",
       "      <td>Détails du produitVente</td>\n",
       "    </tr>\n",
       "    <tr>\n",
       "      <th>165</th>\n",
       "      <td>Ordinateur HP Workstation</td>\n",
       "      <td>350 000 CFA</td>\n",
       "      <td>Dakar Plateau, Dakar, Sénégal</td>\n",
       "      <td>Ordinateurs</td>\n",
       "      <td>2 jours</td>\n",
       "      <td>2021-11-23</td>\n",
       "      <td>https://sn.coinafrique.com/annonce/ordinateurs...</td>\n",
       "      <td></td>\n",
       "      <td>Détails du produitPc workstation ideale pour l...</td>\n",
       "    </tr>\n",
       "    <tr>\n",
       "      <th>166</th>\n",
       "      <td>PC HP core i5</td>\n",
       "      <td>370 CFA</td>\n",
       "      <td>Dakar, Sénégal</td>\n",
       "      <td>Ordinateurs</td>\n",
       "      <td>2 jours</td>\n",
       "      <td>2021-11-23</td>\n",
       "      <td>https://sn.coinafrique.com/annonce/ordinateurs...</td>\n",
       "      <td>Produit neuf</td>\n",
       "      <td>Détails du produitI5 9500 \\nRam 8 Gb ddr4\\nHDD...</td>\n",
       "    </tr>\n",
       "    <tr>\n",
       "      <th>167</th>\n",
       "      <td>Ordinateur Lenovo S30</td>\n",
       "      <td>300 000 CFA</td>\n",
       "      <td>Dakar Plateau, Dakar, Sénégal</td>\n",
       "      <td>Ordinateurs</td>\n",
       "      <td>2 jours</td>\n",
       "      <td>2021-11-23</td>\n",
       "      <td>https://sn.coinafrique.com/annonce/ordinateurs...</td>\n",
       "      <td></td>\n",
       "      <td>Détails du produitPuissant ordinateur professi...</td>\n",
       "    </tr>\n",
       "  </tbody>\n",
       "</table>\n",
       "<p>168 rows × 9 columns</p>\n",
       "</div>"
      ],
      "text/plain": [
       "                                      titre         prix  \\\n",
       "0                          Infinix Hot 10i    75 000 CFA   \n",
       "1                              Tecno Pop 2F   38 000 CFA   \n",
       "2                            Tecno Camon 18  115 000 CFA   \n",
       "3                     TCL 20L Plus - 256 Go  150 000 CFA   \n",
       "4                        TCL 20se - 128 Go   110 000 CFA   \n",
       "..                                      ...          ...   \n",
       "163                              PC Lenovo    75 000 CFA   \n",
       "164  Ordinateur HP 800 G1 Elitedesk core i5  100 000 CFA   \n",
       "165               Ordinateur HP Workstation  350 000 CFA   \n",
       "166                           PC HP core i5      370 CFA   \n",
       "167                   Ordinateur Lenovo S30  300 000 CFA   \n",
       "\n",
       "                          localite               categorie  \\\n",
       "0                   Dakar, Sénégal  Téléphones & Tablettes   \n",
       "1           Téléphones & Tablettes          Dakar, Sénégal   \n",
       "2           Téléphones & Tablettes          Dakar, Sénégal   \n",
       "3    Dakar Plateau, Dakar, Sénégal  Téléphones & Tablettes   \n",
       "4    Dakar Plateau, Dakar, Sénégal  Téléphones & Tablettes   \n",
       "..                             ...                     ...   \n",
       "163                 Dakar, Sénégal             Ordinateurs   \n",
       "164                 Dakar, Sénégal             Ordinateurs   \n",
       "165  Dakar Plateau, Dakar, Sénégal             Ordinateurs   \n",
       "166                 Dakar, Sénégal             Ordinateurs   \n",
       "167  Dakar Plateau, Dakar, Sénégal             Ordinateurs   \n",
       "\n",
       "                      duree date d'extraction  \\\n",
       "0                14 minutes        2021-11-23   \n",
       "1    Téléphones & Tablettes        2021-11-23   \n",
       "2    Téléphones & Tablettes        2021-11-23   \n",
       "3                42 minutes        2021-11-23   \n",
       "4                42 minutes        2021-11-23   \n",
       "..                      ...               ...   \n",
       "163                  1 jour        2021-11-23   \n",
       "164                  1 jour        2021-11-23   \n",
       "165                 2 jours        2021-11-23   \n",
       "166                 2 jours        2021-11-23   \n",
       "167                 2 jours        2021-11-23   \n",
       "\n",
       "                                                  lien état du produit  \\\n",
       "0    https://sn.coinafrique.com/annonce/telephones-...    Produit neuf   \n",
       "1    https://sn.coinafrique.com/annonce/telephones-...    Produit neuf   \n",
       "2    https://sn.coinafrique.com/annonce/telephones-...    Produit neuf   \n",
       "3    https://sn.coinafrique.com/annonce/telephones-...    Produit neuf   \n",
       "4    https://sn.coinafrique.com/annonce/telephones-...    Produit neuf   \n",
       "..                                                 ...             ...   \n",
       "163  https://sn.coinafrique.com/annonce/ordinateurs...                   \n",
       "164  https://sn.coinafrique.com/annonce/ordinateurs...                   \n",
       "165  https://sn.coinafrique.com/annonce/ordinateurs...                   \n",
       "166  https://sn.coinafrique.com/annonce/ordinateurs...    Produit neuf   \n",
       "167  https://sn.coinafrique.com/annonce/ordinateurs...                   \n",
       "\n",
       "                                    détails du produit  \n",
       "0    Détails du produitInfinix Hot 8i\\nMémoire 64 G...  \n",
       "1      Détails du produitTecno Pop 2F\\n16 Gb\\nRam 1 Gb  \n",
       "2    Détails du produitTecno Camon 18 \\n128 Gb\\nRam...  \n",
       "3    Détails du produitTcl 20l plus original tout n...  \n",
       "4    Détails du produitTcl 20se original tout neuf ...  \n",
       "..                                                 ...  \n",
       "163  Détails du produitDisk 250gb ran 4gb autono.ie...  \n",
       "164                           Détails du produitVente   \n",
       "165  Détails du produitPc workstation ideale pour l...  \n",
       "166  Détails du produitI5 9500 \\nRam 8 Gb ddr4\\nHDD...  \n",
       "167  Détails du produitPuissant ordinateur professi...  \n",
       "\n",
       "[168 rows x 9 columns]"
      ]
     },
     "execution_count": 14,
     "metadata": {},
     "output_type": "execute_result"
    }
   ],
   "source": [
    "\n",
    "\n",
    "dic_data={param: {j : {\n",
    "    # Titre\n",
    "    'titre': soup[param]['soup {}'.format(j)].find(\"h1\",{\"class\":\"title title-ad hide-on-large-and-down\"}).text,\n",
    "    # Prix\n",
    "    'prix': soup[param]['soup {}'.format(j)].find(\"p\",{\"class\":\"price\"}).text,\n",
    "    # Localité\n",
    "    'localite' : soup[param]['soup {}'.format(j)].findAll(\"span\",{\"class\":\"valign-wrapper\"})[1].text,\n",
    "    # Catégorie\n",
    "    'categorie' : soup[param]['soup {}'.format(j)].findAll(\"span\",{\"class\":\"valign-wrapper\"})[2].text,\n",
    "    # Durée de la publication\n",
    "    'duree' : soup[param]['soup {}'.format(j)].findAll(\"span\",{\"class\":\"valign-wrapper\"})[3].text,\n",
    "    # Date d'extraction des données\n",
    "    \"date d'extraction\" : date.today(),\n",
    "    # Lien du produit\n",
    "    \"lien\" : \"https://sn.coinafrique.com\"+all_containers[param][j].div.a['href']\n",
    "    \n",
    "    } for j in range(len(soup[param]))} for param in all_containers.keys()}\n",
    "\n",
    "\n",
    "\n",
    "for param in all_containers.keys() :\n",
    "    for j in range(len(all_containers[param])) :\n",
    "        # État du produit : neuf\n",
    "        try :\n",
    "            dic_data[param][j]['état du produit'] = soup[param]['soup {}'.format(j)].findAll(\n",
    "                \"div\",{\"class\":\"isNew-option\"})[0].text\n",
    "        except :\n",
    "            dic_data[param][j]['état du produit'] = \"\"\n",
    "\n",
    "        # Détails du produit   \n",
    "        try :\n",
    "            # État du produit : neuf\n",
    "            dic_data[param][j]['détails du produit'] = soup[param]['soup {}'.format(j)].findAll(\n",
    "                \"div\",{\"class\":\"ad__info__box ad__info__box-descriptions\"})[0].text\n",
    "        except :\n",
    "            dic_data[param][j]['détails du produit'] = \"\"\n",
    "            \n",
    "# Convertir dict_data en DataFrame\n",
    "df_bd = [pd.DataFrame(dic_data[param]).T for param in all_containers.keys()]\n",
    "data = pd.concat(df_bd).reset_index(drop=True)\n",
    "data"
   ]
  },
  {
   "cell_type": "code",
   "execution_count": 11,
   "metadata": {},
   "outputs": [],
   "source": [
    "from datetime import date\n",
    "data.to_excel('dataCoinAfriqueSn{}.xlsx'.format(date.today()))"
   ]
  }
 ],
 "metadata": {
  "kernelspec": {
   "display_name": "Python 3",
   "language": "python",
   "name": "python3"
  },
  "language_info": {
   "codemirror_mode": {
    "name": "ipython",
    "version": 3
   },
   "file_extension": ".py",
   "mimetype": "text/x-python",
   "name": "python",
   "nbconvert_exporter": "python",
   "pygments_lexer": "ipython3",
   "version": "3.8.2"
  }
 },
 "nbformat": 4,
 "nbformat_minor": 5
}
